{
 "cells": [
  {
   "cell_type": "markdown",
   "metadata": {},
   "source": [
    "# Project Section Outline\n",
    "A bit cleaner than just using comments\n",
    "\n",
    "### Import dependencies\n",
    "- from census import Census\n",
    "- pandas as pd\n",
    "- matplotlib.pyplot as plt\n",
    "- from us import states\n",
    "- os\n",
    "- config file keys"
   ]
  },
  {
   "cell_type": "code",
   "execution_count": 1,
   "metadata": {},
   "outputs": [],
   "source": [
    "import os\n",
    "import pandas as pd\n",
    "import matplotlib.pyplot as plt\n",
    "from census import Census\n",
    "from us import states\n",
    "from jmp_config import g_key\n",
    "from jmp_config import census_key"
   ]
  },
  {
   "cell_type": "markdown",
   "metadata": {},
   "source": [
    "### Import and clean CA crime data\n",
    "- Get data from CSV file\n",
    "- Clean up the county names\n",
    "- Find only data for crimes with firearms\n",
    "- Save a separate dataframe"
   ]
  },
  {
   "cell_type": "code",
   "execution_count": 11,
   "metadata": {},
   "outputs": [
    {
     "data": {
      "text/html": [
       "<div>\n",
       "<style scoped>\n",
       "    .dataframe tbody tr th:only-of-type {\n",
       "        vertical-align: middle;\n",
       "    }\n",
       "\n",
       "    .dataframe tbody tr th {\n",
       "        vertical-align: top;\n",
       "    }\n",
       "\n",
       "    .dataframe thead th {\n",
       "        text-align: right;\n",
       "    }\n",
       "</style>\n",
       "<table border=\"1\" class=\"dataframe\">\n",
       "  <thead>\n",
       "    <tr style=\"text-align: right;\">\n",
       "      <th></th>\n",
       "      <th>Year</th>\n",
       "      <th>County</th>\n",
       "      <th>NCICCode</th>\n",
       "      <th>violentSum</th>\n",
       "      <th>firearmRobberySum</th>\n",
       "      <th>firearmAssaultSum</th>\n",
       "    </tr>\n",
       "  </thead>\n",
       "  <tbody>\n",
       "    <tr>\n",
       "      <th>0</th>\n",
       "      <td>1985</td>\n",
       "      <td>Alameda</td>\n",
       "      <td>Alameda Co. Sheriff's Department</td>\n",
       "      <td>427</td>\n",
       "      <td>77</td>\n",
       "      <td>25</td>\n",
       "    </tr>\n",
       "    <tr>\n",
       "      <th>1</th>\n",
       "      <td>1985</td>\n",
       "      <td>Alameda</td>\n",
       "      <td>Alameda</td>\n",
       "      <td>405</td>\n",
       "      <td>56</td>\n",
       "      <td>16</td>\n",
       "    </tr>\n",
       "    <tr>\n",
       "      <th>2</th>\n",
       "      <td>1985</td>\n",
       "      <td>Alameda</td>\n",
       "      <td>Albany</td>\n",
       "      <td>101</td>\n",
       "      <td>23</td>\n",
       "      <td>3</td>\n",
       "    </tr>\n",
       "    <tr>\n",
       "      <th>3</th>\n",
       "      <td>1985</td>\n",
       "      <td>Alameda</td>\n",
       "      <td>Berkeley</td>\n",
       "      <td>1164</td>\n",
       "      <td>242</td>\n",
       "      <td>47</td>\n",
       "    </tr>\n",
       "    <tr>\n",
       "      <th>4</th>\n",
       "      <td>1985</td>\n",
       "      <td>Alameda</td>\n",
       "      <td>Emeryville</td>\n",
       "      <td>146</td>\n",
       "      <td>35</td>\n",
       "      <td>6</td>\n",
       "    </tr>\n",
       "  </tbody>\n",
       "</table>\n",
       "</div>"
      ],
      "text/plain": [
       "   Year   County                          NCICCode  violentSum  \\\n",
       "0  1985  Alameda  Alameda Co. Sheriff's Department         427   \n",
       "1  1985  Alameda                           Alameda         405   \n",
       "2  1985  Alameda                            Albany         101   \n",
       "3  1985  Alameda                          Berkeley        1164   \n",
       "4  1985  Alameda                        Emeryville         146   \n",
       "\n",
       "   firearmRobberySum  firearmAssaultSum  \n",
       "0                 77                 25  \n",
       "1                 56                 16  \n",
       "2                 23                  3  \n",
       "3                242                 47  \n",
       "4                 35                  6  "
      ]
     },
     "execution_count": 11,
     "metadata": {},
     "output_type": "execute_result"
    }
   ],
   "source": [
    "#Set path for crime data from California\n",
    "filepath = os.path.join('Data','Crimes_and_Clearances_with_Arson-1985-2019.csv')\n",
    "df = pd.read_csv(filepath, low_memory=False)\n",
    "#Remove 'county' from the County name field\n",
    "df['County']=df['County'].str.replace(' County','')\n",
    "#Remove unneeded fields.  \n",
    "#'FROBact_sum' is total robberies with a firearm, actual offenses\n",
    "#'FASSact_sum' is total assault with a firearm, actual offenses\n",
    "df_clean=df[['Year','County','NCICCode','Violent_sum','FROBact_sum','FASSact_sum']]\n",
    "#clean up column names\n",
    "df_clean=df_clean.rename(columns={'FROBact_sum':'firearmRobberySum',\n",
    "                                 'FASSact_sum':'firearmAssaultSum',\n",
    "                                 'Violent_sum':'violentSum'})\n",
    "df_clean.head()"
   ]
  },
  {
   "cell_type": "markdown",
   "metadata": {},
   "source": [
    "### Import and clean Census data\n",
    "- Get data from census API (2009 through 2019 is what is available)\n",
    "- Get population data for CA\n",
    "- Bonus: get population data for each county (may not be available)\n",
    "- Save data as a simple dataframe (year, population)"
   ]
  },
  {
   "cell_type": "code",
   "execution_count": 59,
   "metadata": {},
   "outputs": [],
   "source": [
    "#Set up a dataframe with a call to the census API for 2009 county population data\n",
    "year=2009\n",
    "c=Census(census_key, year=year)\n",
    "census_data = c.acs5.get(('NAME','B01003_001E'), geo={'for': 'county:*',\n",
    "                       'in': 'state:{}'.format(states.CA.fips)})\n",
    "# Save as dataframe\n",
    "CAPop_df = pd.DataFrame(census_data)\n",
    "\n",
    "# Rename columns\n",
    "CAPop_df = census_pd.rename(columns={\"B01003_001E\": \"Population\",\n",
    "                                    \"county\":'countyNo',\n",
    "                                    \"state\":'stateNo'})\n",
    "#Add a column that only has the county name\n",
    "CAPop_df['County']=CAPop_df['NAME'].str.replace(' County, California','')\n",
    "\n",
    "#Add a year column\n",
    "CAPop_df['Year']= year\n",
    "\n",
    "\n",
    "\n",
    "#Set up a loop to get the rest of the data for years 2010-2019\n",
    "for year in range(2010,2020):\n",
    "    \n",
    "    c=Census(census_key, year=year)\n",
    "    census_data = c.acs5.get(('NAME','B01003_001E'), geo={'for': 'county:*',\n",
    "                       'in': 'state:{}'.format(states.CA.fips)})\n",
    "\n",
    "    # Save as dataframe\n",
    "    census_pd = pd.DataFrame(census_data)\n",
    "\n",
    "    # Rename columns\n",
    "    census_pd = census_pd.rename(columns={\"B01003_001E\": \"Population\",\n",
    "                                    \"county\":'countyNo',\n",
    "                                    \"state\":'stateNo'})\n",
    "    #Add a column that only has the county name\n",
    "    census_pd['County']=census_pd['NAME'].str.replace(' County, California','')\n",
    "    \n",
    "    #Add a year column\n",
    "    census_pd['Year']=year\n",
    "    \n",
    "    # Append the existing CAPop_df dataframe with the results from the current iteration\n",
    "    CAPop_df=CAPop_df.append(census_pd,ignore_index=True)\n",
    "\n",
    "CAPop_df.head()\n",
    "CAPop_df.to_csv('Data/CA_CountyPop_2009to2019.csv')"
   ]
  },
  {
   "cell_type": "markdown",
   "metadata": {},
   "source": [
    "### Group crime data\n",
    "- Group by year\n",
    "- Get total gun crimes per year\n",
    "- Get total gun crimes per 100,000 people\n",
    "- Bonus: group by county (if county population data is available)\n",
    "- Bonus: get gun crimes per county\n",
    "- Bonus: get gun crimes per 100,000 people in a county"
   ]
  },
  {
   "cell_type": "code",
   "execution_count": null,
   "metadata": {},
   "outputs": [],
   "source": []
  },
  {
   "cell_type": "markdown",
   "metadata": {},
   "source": [
    "### Plot gun crime data\n",
    "- Bar chart of gun crimes per year\n",
    "- Bar chart of gun crimes per year per capita\n",
    "- Bonus: bar chart of gun crimes per year in LA County\n",
    "- Bonus: bar chart of gun crimes per year in LA County per capita\n",
    "- Save your charts to files"
   ]
  },
  {
   "cell_type": "markdown",
   "metadata": {},
   "source": []
  }
 ],
 "metadata": {
  "kernelspec": {
   "display_name": "Python 3",
   "language": "python",
   "name": "python3"
  },
  "language_info": {
   "codemirror_mode": {
    "name": "ipython",
    "version": 3
   },
   "file_extension": ".py",
   "mimetype": "text/x-python",
   "name": "python",
   "nbconvert_exporter": "python",
   "pygments_lexer": "ipython3",
   "version": "3.8.5"
  }
 },
 "nbformat": 4,
 "nbformat_minor": 4
}
